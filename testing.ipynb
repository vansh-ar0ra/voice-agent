{
 "cells": [
  {
   "cell_type": "code",
   "execution_count": 1,
   "metadata": {},
   "outputs": [],
   "source": [
    "from livekit import agents\n",
    "from livekit.agents import Agent, AgentSession, JobContext, WorkerOptions, jupyter\n",
    "from livekit.plugins import (\n",
    "    openai,\n",
    "    elevenlabs,\n",
    "    silero,\n",
    "    deepgram,\n",
    ")"
   ]
  },
  {
   "cell_type": "code",
   "execution_count": null,
   "metadata": {},
   "outputs": [],
   "source": [
    "class Assistant(Agent):\n",
    "    def __init__(self) -> None:\n",
    "        llm = openai.LLM(model=\"gpt-4o\")\n",
    "        stt = deepgram.STT(\n",
    "            model=\"nova-2-general\",\n",
    "            interim_results=True,\n",
    "            smart_format=True,\n",
    "            punctuate=True,\n",
    "            filler_words=True,\n",
    "            profanity_filter=False,\n",
    "            keywords=[(\"LiveKit\", 1.5)],\n",
    "            language=\"en-US\",\n",
    "        ),\n",
    "        tts=deepgram.TTS(\n",
    "            model=\"aura-asteria-en\",\n",
    "        )\n",
    "        #tts = elevenlabs.TTS(voice_id=\"CwhRBWXzGAHq8TQ4Fs17\")  # example with defined voice\n",
    "        silero_vad = silero.VAD.load()\n",
    "\n",
    "        super().__init__(\n",
    "            instructions=\"\"\"\n",
    "                You are a helpful assistant communicating \n",
    "                via voice\n",
    "            \"\"\",\n",
    "            stt=stt,\n",
    "            llm=llm,\n",
    "            tts=tts,\n",
    "            vad=silero_vad,\n",
    "        )"
   ]
  },
  {
   "cell_type": "code",
   "execution_count": null,
   "metadata": {},
   "outputs": [],
   "source": []
  },
  {
   "cell_type": "code",
   "execution_count": null,
   "metadata": {},
   "outputs": [],
   "source": []
  }
 ],
 "metadata": {
  "kernelspec": {
   "display_name": "venv",
   "language": "python",
   "name": "python3"
  },
  "language_info": {
   "codemirror_mode": {
    "name": "ipython",
    "version": 3
   },
   "file_extension": ".py",
   "mimetype": "text/x-python",
   "name": "python",
   "nbconvert_exporter": "python",
   "pygments_lexer": "ipython3",
   "version": "3.13.3"
  }
 },
 "nbformat": 4,
 "nbformat_minor": 2
}
